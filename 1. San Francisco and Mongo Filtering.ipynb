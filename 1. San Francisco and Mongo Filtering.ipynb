{
 "cells": [
  {
   "cell_type": "code",
   "execution_count": 1,
   "metadata": {},
   "outputs": [
    {
     "data": {
      "text/plain": [
       "True"
      ]
     },
     "execution_count": 1,
     "metadata": {},
     "output_type": "execute_result"
    }
   ],
   "source": [
    "import pandas as pd\n",
    "import requests\n",
    "import json\n",
    "import seaborn as sns\n",
    "from pymongo import MongoClient\n",
    "from pymongo import GEOSPHERE\n",
    "import folium\n",
    "from folium import Choropleth, Circle, Marker, Icon, Map\n",
    "import pandas as pd\n",
    "from dotenv import load_dotenv\n",
    "import os\n",
    "from functools import reduce\n",
    "import operator\n",
    "import src.functions as ft\n",
    "import src.geoqueries as geo\n",
    "load_dotenv()"
   ]
  },
  {
   "cell_type": "markdown",
   "metadata": {},
   "source": [
    "First of all, we import our personal tokens from Foursquare and establish connection with MongoDB Server. "
   ]
  },
  {
   "cell_type": "code",
   "execution_count": 2,
   "metadata": {},
   "outputs": [],
   "source": [
    "tok1 = os.getenv(\"tok1\")\n",
    "tok2 = os.getenv(\"tok2\")"
   ]
  },
  {
   "cell_type": "code",
   "execution_count": 3,
   "metadata": {},
   "outputs": [],
   "source": [
    "client = MongoClient(\"localhost:27017\")"
   ]
  },
  {
   "cell_type": "code",
   "execution_count": 4,
   "metadata": {},
   "outputs": [
    {
     "data": {
      "text/plain": [
       "MongoClient(host=['localhost:27017'], document_class=dict, tz_aware=False, connect=True)"
      ]
     },
     "execution_count": 4,
     "metadata": {},
     "output_type": "execute_result"
    }
   ],
   "source": [
    "client"
   ]
  },
  {
   "cell_type": "code",
   "execution_count": 5,
   "metadata": {},
   "outputs": [],
   "source": [
    "db = client.get_database(\"ironhack\")"
   ]
  },
  {
   "cell_type": "markdown",
   "metadata": {},
   "source": [
    "In our database, we are gonna create a new collection called \"gaming_companies\" in which we will filter a collection (called \"companies\") of more than 18K companies across the world. We are trying to find companies with more than $1M raised and a team of, at least, 50 people."
   ]
  },
  {
   "cell_type": "markdown",
   "metadata": {},
   "source": [
    "db.create_collection(\"gaming_companies\")"
   ]
  },
  {
   "cell_type": "code",
   "execution_count": 6,
   "metadata": {},
   "outputs": [],
   "source": [
    "companies = db.get_collection(\"companies\")\n",
    "gaming_proj = {\"_id\": 0, \"name\": 1, \"offices.latitude\": 1, \"offices.longitude\": 1, \"number_of_employees\": 1}\n",
    "gaming_companies = list(companies.find({\"number_of_employees\": {\"$gt\": 50}, \"total_money_raised\": {\"$gte\": \"$1M\"}, \"offices.zip_code\": {\"$exists\": True}, \"offices.city\": {\"$exists\": True}}, gaming_proj))"
   ]
  },
  {
   "cell_type": "markdown",
   "metadata": {},
   "source": [
    "At this moment, we are gonna create a DataFrame specifying the coordinates and the name of each company. The column place is equal in every row to \"company\" because we will use it when we finish the calling process to Foursquare's API."
   ]
  },
  {
   "cell_type": "code",
   "execution_count": 7,
   "metadata": {},
   "outputs": [],
   "source": [
    "ft.createList(gaming_companies)"
   ]
  },
  {
   "cell_type": "markdown",
   "metadata": {},
   "source": [
    "## Evaluating San Francisco"
   ]
  },
  {
   "cell_type": "code",
   "execution_count": 8,
   "metadata": {},
   "outputs": [],
   "source": [
    "# Coordenadas de San Francisco\n",
    "coord = [37.783046, -122.394067]\n",
    "topic = [\"basketball\", \"vegan\", \"airport\", \"starbucks\", \"school\", \"club\", \"dog\"]"
   ]
  },
  {
   "cell_type": "code",
   "execution_count": 9,
   "metadata": {},
   "outputs": [],
   "source": [
    "for t in topic:\n",
    "    geo.Geoquery(coord, t, tok1, tok2)"
   ]
  },
  {
   "cell_type": "code",
   "execution_count": 10,
   "metadata": {},
   "outputs": [],
   "source": [
    "sf_venues = db.get_collection(\"sf_venues\")"
   ]
  },
  {
   "cell_type": "markdown",
   "metadata": {},
   "source": [
    "We invert the coordinates of our place chosen because of Foursquare's criteria. Then, we will assign a max. distance from the place to know how many places of each type are in this radio. "
   ]
  },
  {
   "cell_type": "code",
   "execution_count": 11,
   "metadata": {},
   "outputs": [],
   "source": [
    "sf_coordinates = [-122.394067, 37.783046]\n",
    "distance = 1000\n",
    "city = \"sf\"\n",
    "#Remember that we had the list of coordinates above. "
   ]
  },
  {
   "cell_type": "markdown",
   "metadata": {},
   "source": [
    "We call the function \"creatingPlaces\" and then we graph a simple plot to know how many places are from each type near our choice. "
   ]
  },
  {
   "cell_type": "code",
   "execution_count": 19,
   "metadata": {},
   "outputs": [
    {
     "data": {
      "text/plain": [
       "Text(0.5, 1.0, \"San Francisco's places\")"
      ]
     },
     "execution_count": 19,
     "metadata": {},
     "output_type": "execute_result"
    },
    {
     "data": {
      "image/png": "[encoded data removed]",
      "text/plain": [
       "<Figure size 432x288 with 1 Axes>"
      ]
     },
     "metadata": {
      "needs_background": "light"
     },
     "output_type": "display_data"
    }
   ],
   "source": [
    "places = geo.creatingPlaces(sf_coordinates, distance, sf_venues, city)\n",
    "\n",
    "places.place.value_counts()\n",
    "sns.countplot(x='place', data=places).set_title(\"San Francisco's places\")"
   ]
  },
  {
   "cell_type": "code",
   "execution_count": 14,
   "metadata": {},
   "outputs": [],
   "source": [
    "map_sf = geo.creatingMap(sf_coordinates, distance, sf_venues, city, coord)"
   ]
  },
  {
   "cell_type": "code",
   "execution_count": 18,
   "metadata": {},
   "outputs": [],
   "source": [
    "map_sf.save(\"sf.png\")"
   ]
  }
 ],
 "metadata": {
  "kernelspec": {
   "display_name": "ironhac",
   "language": "python",
   "name": "ironhac"
  },
  "language_info": {
   "codemirror_mode": {
    "name": "ipython",
    "version": 3
   },
   "file_extension": ".py",
   "mimetype": "text/x-python",
   "name": "python",
   "nbconvert_exporter": "python",
   "pygments_lexer": "ipython3",
   "version": "3.8.2"
  }
 },
 "nbformat": 4,
 "nbformat_minor": 5
}
